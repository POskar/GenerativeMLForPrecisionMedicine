{
 "cells": [
  {
   "cell_type": "code",
   "execution_count": 25,
   "metadata": {},
   "outputs": [],
   "source": [
    "import pandas as pd\n",
    "import numpy as np\n",
    "\n",
    "RANDOM_STATE = 404\n",
    "\n",
    "# Dictionary to store models and their results\n",
    "models_dict = {}"
   ]
  },
  {
   "cell_type": "code",
   "execution_count": 26,
   "metadata": {},
   "outputs": [
    {
     "data": {
      "text/html": [
       "<div>\n",
       "<style scoped>\n",
       "    .dataframe tbody tr th:only-of-type {\n",
       "        vertical-align: middle;\n",
       "    }\n",
       "\n",
       "    .dataframe tbody tr th {\n",
       "        vertical-align: top;\n",
       "    }\n",
       "\n",
       "    .dataframe thead th {\n",
       "        text-align: right;\n",
       "    }\n",
       "</style>\n",
       "<table border=\"1\" class=\"dataframe\">\n",
       "  <thead>\n",
       "    <tr style=\"text-align: right;\">\n",
       "      <th></th>\n",
       "      <th>age</th>\n",
       "      <th>gender</th>\n",
       "      <th>height</th>\n",
       "      <th>weight</th>\n",
       "      <th>ap_hi</th>\n",
       "      <th>ap_lo</th>\n",
       "      <th>cholesterol</th>\n",
       "      <th>gluc</th>\n",
       "      <th>smoke</th>\n",
       "      <th>alco</th>\n",
       "      <th>active</th>\n",
       "      <th>cardio</th>\n",
       "    </tr>\n",
       "  </thead>\n",
       "  <tbody>\n",
       "    <tr>\n",
       "      <th>0</th>\n",
       "      <td>18393</td>\n",
       "      <td>2</td>\n",
       "      <td>168</td>\n",
       "      <td>62.0</td>\n",
       "      <td>110</td>\n",
       "      <td>80</td>\n",
       "      <td>1</td>\n",
       "      <td>1</td>\n",
       "      <td>0</td>\n",
       "      <td>0</td>\n",
       "      <td>1</td>\n",
       "      <td>0</td>\n",
       "    </tr>\n",
       "    <tr>\n",
       "      <th>1</th>\n",
       "      <td>20228</td>\n",
       "      <td>1</td>\n",
       "      <td>156</td>\n",
       "      <td>85.0</td>\n",
       "      <td>140</td>\n",
       "      <td>90</td>\n",
       "      <td>3</td>\n",
       "      <td>1</td>\n",
       "      <td>0</td>\n",
       "      <td>0</td>\n",
       "      <td>1</td>\n",
       "      <td>1</td>\n",
       "    </tr>\n",
       "    <tr>\n",
       "      <th>2</th>\n",
       "      <td>18857</td>\n",
       "      <td>1</td>\n",
       "      <td>165</td>\n",
       "      <td>64.0</td>\n",
       "      <td>130</td>\n",
       "      <td>70</td>\n",
       "      <td>3</td>\n",
       "      <td>1</td>\n",
       "      <td>0</td>\n",
       "      <td>0</td>\n",
       "      <td>0</td>\n",
       "      <td>1</td>\n",
       "    </tr>\n",
       "    <tr>\n",
       "      <th>3</th>\n",
       "      <td>17623</td>\n",
       "      <td>2</td>\n",
       "      <td>169</td>\n",
       "      <td>82.0</td>\n",
       "      <td>150</td>\n",
       "      <td>100</td>\n",
       "      <td>1</td>\n",
       "      <td>1</td>\n",
       "      <td>0</td>\n",
       "      <td>0</td>\n",
       "      <td>1</td>\n",
       "      <td>1</td>\n",
       "    </tr>\n",
       "    <tr>\n",
       "      <th>4</th>\n",
       "      <td>17474</td>\n",
       "      <td>1</td>\n",
       "      <td>156</td>\n",
       "      <td>56.0</td>\n",
       "      <td>100</td>\n",
       "      <td>60</td>\n",
       "      <td>1</td>\n",
       "      <td>1</td>\n",
       "      <td>0</td>\n",
       "      <td>0</td>\n",
       "      <td>0</td>\n",
       "      <td>0</td>\n",
       "    </tr>\n",
       "  </tbody>\n",
       "</table>\n",
       "</div>"
      ],
      "text/plain": [
       "     age  gender  height  weight  ap_hi  ap_lo  cholesterol  gluc  smoke  \\\n",
       "0  18393       2     168    62.0    110     80            1     1      0   \n",
       "1  20228       1     156    85.0    140     90            3     1      0   \n",
       "2  18857       1     165    64.0    130     70            3     1      0   \n",
       "3  17623       2     169    82.0    150    100            1     1      0   \n",
       "4  17474       1     156    56.0    100     60            1     1      0   \n",
       "\n",
       "   alco  active  cardio  \n",
       "0     0       1       0  \n",
       "1     0       1       1  \n",
       "2     0       0       1  \n",
       "3     0       1       1  \n",
       "4     0       0       0  "
      ]
     },
     "execution_count": 26,
     "metadata": {},
     "output_type": "execute_result"
    }
   ],
   "source": [
    "df = pd.read_csv('../../data/cardio_train.csv', delimiter=';')\n",
    "df.drop(columns=['id'], inplace=True)\n",
    "df.head()"
   ]
  },
  {
   "cell_type": "code",
   "execution_count": 27,
   "metadata": {},
   "outputs": [],
   "source": [
    "X = df.drop(columns=['cardio'])\n",
    "y = df['cardio']"
   ]
  },
  {
   "cell_type": "markdown",
   "metadata": {},
   "source": [
    "## Data manipulation"
   ]
  },
  {
   "cell_type": "code",
   "execution_count": 28,
   "metadata": {},
   "outputs": [
    {
     "data": {
      "text/plain": [
       "array([0, 1, 1, ..., 1, 1, 0], dtype=int64)"
      ]
     },
     "execution_count": 28,
     "metadata": {},
     "output_type": "execute_result"
    }
   ],
   "source": [
    "from sklearn.preprocessing import LabelEncoder\n",
    "\n",
    "label_encoder = LabelEncoder()\n",
    "y = label_encoder.fit_transform(y) \n",
    "y"
   ]
  },
  {
   "cell_type": "code",
   "execution_count": 29,
   "metadata": {},
   "outputs": [
    {
     "data": {
      "text/html": [
       "<div>\n",
       "<style scoped>\n",
       "    .dataframe tbody tr th:only-of-type {\n",
       "        vertical-align: middle;\n",
       "    }\n",
       "\n",
       "    .dataframe tbody tr th {\n",
       "        vertical-align: top;\n",
       "    }\n",
       "\n",
       "    .dataframe thead th {\n",
       "        text-align: right;\n",
       "    }\n",
       "</style>\n",
       "<table border=\"1\" class=\"dataframe\">\n",
       "  <thead>\n",
       "    <tr style=\"text-align: right;\">\n",
       "      <th></th>\n",
       "      <th>age</th>\n",
       "      <th>gender</th>\n",
       "      <th>height</th>\n",
       "      <th>weight</th>\n",
       "      <th>ap_hi</th>\n",
       "      <th>ap_lo</th>\n",
       "      <th>cholesterol</th>\n",
       "      <th>gluc</th>\n",
       "      <th>smoke</th>\n",
       "      <th>alco</th>\n",
       "      <th>active</th>\n",
       "    </tr>\n",
       "  </thead>\n",
       "  <tbody>\n",
       "    <tr>\n",
       "      <th>0</th>\n",
       "      <td>-0.436062</td>\n",
       "      <td>2</td>\n",
       "      <td>0.443452</td>\n",
       "      <td>-0.847873</td>\n",
       "      <td>-0.122182</td>\n",
       "      <td>-0.088238</td>\n",
       "      <td>1</td>\n",
       "      <td>1</td>\n",
       "      <td>0</td>\n",
       "      <td>0</td>\n",
       "      <td>1</td>\n",
       "    </tr>\n",
       "    <tr>\n",
       "      <th>1</th>\n",
       "      <td>0.307686</td>\n",
       "      <td>1</td>\n",
       "      <td>-1.018168</td>\n",
       "      <td>0.749831</td>\n",
       "      <td>0.072610</td>\n",
       "      <td>-0.035180</td>\n",
       "      <td>3</td>\n",
       "      <td>1</td>\n",
       "      <td>0</td>\n",
       "      <td>0</td>\n",
       "      <td>1</td>\n",
       "    </tr>\n",
       "    <tr>\n",
       "      <th>2</th>\n",
       "      <td>-0.247997</td>\n",
       "      <td>1</td>\n",
       "      <td>0.078047</td>\n",
       "      <td>-0.708942</td>\n",
       "      <td>0.007679</td>\n",
       "      <td>-0.141297</td>\n",
       "      <td>3</td>\n",
       "      <td>1</td>\n",
       "      <td>0</td>\n",
       "      <td>0</td>\n",
       "      <td>0</td>\n",
       "    </tr>\n",
       "    <tr>\n",
       "      <th>3</th>\n",
       "      <td>-0.748152</td>\n",
       "      <td>2</td>\n",
       "      <td>0.565254</td>\n",
       "      <td>0.541435</td>\n",
       "      <td>0.137541</td>\n",
       "      <td>0.017879</td>\n",
       "      <td>1</td>\n",
       "      <td>1</td>\n",
       "      <td>0</td>\n",
       "      <td>0</td>\n",
       "      <td>1</td>\n",
       "    </tr>\n",
       "    <tr>\n",
       "      <th>4</th>\n",
       "      <td>-0.808543</td>\n",
       "      <td>1</td>\n",
       "      <td>-1.018168</td>\n",
       "      <td>-1.264666</td>\n",
       "      <td>-0.187113</td>\n",
       "      <td>-0.194356</td>\n",
       "      <td>1</td>\n",
       "      <td>1</td>\n",
       "      <td>0</td>\n",
       "      <td>0</td>\n",
       "      <td>0</td>\n",
       "    </tr>\n",
       "  </tbody>\n",
       "</table>\n",
       "</div>"
      ],
      "text/plain": [
       "        age  gender    height    weight     ap_hi     ap_lo  cholesterol  \\\n",
       "0 -0.436062       2  0.443452 -0.847873 -0.122182 -0.088238            1   \n",
       "1  0.307686       1 -1.018168  0.749831  0.072610 -0.035180            3   \n",
       "2 -0.247997       1  0.078047 -0.708942  0.007679 -0.141297            3   \n",
       "3 -0.748152       2  0.565254  0.541435  0.137541  0.017879            1   \n",
       "4 -0.808543       1 -1.018168 -1.264666 -0.187113 -0.194356            1   \n",
       "\n",
       "   gluc  smoke  alco  active  \n",
       "0     1      0     0       1  \n",
       "1     1      0     0       1  \n",
       "2     1      0     0       0  \n",
       "3     1      0     0       1  \n",
       "4     1      0     0       0  "
      ]
     },
     "execution_count": 29,
     "metadata": {},
     "output_type": "execute_result"
    }
   ],
   "source": [
    "from sklearn.preprocessing import StandardScaler\n",
    "\n",
    "# Select columns to be scaled\n",
    "numeric_columns = ['age', 'height', 'weight', 'ap_hi', 'ap_lo']\n",
    "categorical_columns = ['gender', 'cholesterol', 'gluc', 'smoke', 'alco', 'active']\n",
    "\n",
    "# Fit and transform your data (only for numeric columns)\n",
    "scaler = StandardScaler()\n",
    "X[numeric_columns] = scaler.fit_transform(X[numeric_columns])\n",
    "\n",
    "X.head(5)"
   ]
  },
  {
   "cell_type": "code",
   "execution_count": 30,
   "metadata": {},
   "outputs": [],
   "source": [
    "from sklearn.model_selection import train_test_split\n",
    "\n",
    "# Split into train and test\n",
    "X_train, X_test, y_train, y_test = train_test_split(X, y, test_size=0.2, random_state=RANDOM_STATE)"
   ]
  },
  {
   "cell_type": "markdown",
   "metadata": {},
   "source": [
    "## Random Forest classifier"
   ]
  },
  {
   "cell_type": "code",
   "execution_count": 31,
   "metadata": {},
   "outputs": [
    {
     "name": "stdout",
     "output_type": "stream",
     "text": [
      "Accuracy without CV: 71.81\n"
     ]
    }
   ],
   "source": [
    "from sklearn.ensemble import RandomForestClassifier\n",
    "from sklearn import metrics\n",
    "\n",
    "rfModel = RandomForestClassifier(random_state=RANDOM_STATE)\n",
    "\n",
    "rfModel.fit(X_train, y_train)\n",
    "\n",
    "rf_pred = rfModel.predict(X_test)\n",
    "\n",
    "rf_accuracy = metrics.accuracy_score(y_test, rf_pred)*100\n",
    "\n",
    "models_dict['Random Forest'] = {'model': rfModel, 'accuracy': rf_accuracy}\n",
    "\n",
    "print(f\"Accuracy without CV: {rf_accuracy:.2f}\")"
   ]
  },
  {
   "cell_type": "code",
   "execution_count": 32,
   "metadata": {},
   "outputs": [
    {
     "name": "stdout",
     "output_type": "stream",
     "text": [
      "Best Accuracy: 73.47\n",
      "Classification Report for RF with CV:\n",
      "               precision    recall  f1-score   support\n",
      "\n",
      "           0     0.7236    0.7647    0.7435      7041\n",
      "           1     0.7474    0.7044    0.7253      6959\n",
      "\n",
      "    accuracy                         0.7347     14000\n",
      "   macro avg     0.7355    0.7345    0.7344     14000\n",
      "weighted avg     0.7354    0.7347    0.7345     14000\n",
      "\n"
     ]
    }
   ],
   "source": [
    "from sklearn.model_selection import GridSearchCV\n",
    "from sklearn.metrics import classification_report\n",
    "\n",
    "param_grid = {\n",
    "    'n_estimators': [100, 200, 300, 500],\n",
    "    'max_depth': [None, 10, 20, 30],\n",
    "    'min_samples_split': [2, 5, 10, 20],\n",
    "    'min_samples_leaf': [1, 2, 4, 8],\n",
    "    'max_features': ['sqrt', 'log2', None],\n",
    "}\n",
    "\n",
    "rf_best_params = {\n",
    "    'n_estimators': [100],\n",
    "    'max_depth': [10],\n",
    "    'min_samples_split': [10],\n",
    "    'min_samples_leaf': [1],\n",
    "    'max_features': [None],\n",
    "}\n",
    "\n",
    "rf_gridsearch = GridSearchCV(estimator=rfModel,param_grid=rf_best_params, cv=5, scoring='accuracy',n_jobs=-1)\n",
    "rf_gridsearch.fit(X_train, y_train)\n",
    "\n",
    "rf_best_params = rf_gridsearch.best_params_\n",
    "rf_best_estimator = rf_gridsearch.best_estimator_\n",
    "rf_pred_CV = rf_best_estimator.predict(X_test)\n",
    "rf_accuracy_cv = metrics.accuracy_score(y_test, rf_pred_CV)*100\n",
    "classification_report_str = classification_report(y_test, rf_pred_CV, digits=4)\n",
    "\n",
    "models_dict['Random Forest CV'] = {'model': rf_best_estimator, 'accuracy': rf_accuracy_cv}\n",
    "\n",
    "print(f\"Best Accuracy: {rf_accuracy_cv:.2f}\")\n",
    "print(\"Classification Report for RF with CV:\\n\", classification_report_str)"
   ]
  },
  {
   "cell_type": "markdown",
   "metadata": {},
   "source": [
    "## MLP"
   ]
  },
  {
   "cell_type": "code",
   "execution_count": 33,
   "metadata": {},
   "outputs": [
    {
     "name": "stdout",
     "output_type": "stream",
     "text": [
      "Accuracy without CV: 73.52\n"
     ]
    }
   ],
   "source": [
    "from sklearn.neural_network import MLPClassifier\n",
    "\n",
    "mlpModel = MLPClassifier(random_state=RANDOM_STATE)\n",
    "mlpModel.fit(X_train, y_train)\n",
    "mlp_pred = mlpModel.predict(X_test)\n",
    "\n",
    "mlp_accuracy = metrics.accuracy_score(y_test, mlp_pred)*100\n",
    "\n",
    "models_dict['MLP'] = {'model': mlpModel, 'accuracy': mlp_accuracy}\n",
    "\n",
    "print(f\"Accuracy without CV: {mlp_accuracy:.2f}\")"
   ]
  },
  {
   "cell_type": "code",
   "execution_count": 34,
   "metadata": {},
   "outputs": [
    {
     "name": "stdout",
     "output_type": "stream",
     "text": [
      "Best Accuracy: 73.57\n",
      "Classification Report for MLP with CV:\n",
      "               precision    recall  f1-score   support\n",
      "\n",
      "           0     0.7322    0.7482    0.7401      7041\n",
      "           1     0.7395    0.7231    0.7312      6959\n",
      "\n",
      "    accuracy                         0.7357     14000\n",
      "   macro avg     0.7358    0.7356    0.7356     14000\n",
      "weighted avg     0.7358    0.7357    0.7357     14000\n",
      "\n"
     ]
    }
   ],
   "source": [
    "mlp_best_params = {\n",
    "    'activation': ['tanh'],\n",
    "    'alpha': [0.01],\n",
    "    'hidden_layer_sizes': [(50, 50)],\n",
    "    'max_iter': [300],\n",
    "    'solver': ['adam'],\n",
    "}\n",
    "\n",
    "mlp_gridsearch = GridSearchCV(estimator=mlpModel, param_grid=mlp_best_params, cv=5, scoring='accuracy', n_jobs=-1)\n",
    "mlp_gridsearch.fit(X_train, y_train)\n",
    "\n",
    "mlp_best_estimator = mlp_gridsearch.best_estimator_\n",
    "mlp_pred_CV = mlp_best_estimator.predict(X_test)\n",
    "mlp_accuracy_cv = metrics.accuracy_score(y_test, mlp_pred_CV)*100\n",
    "classification_report_str = classification_report(y_test, mlp_pred_CV, digits=4)\n",
    "\n",
    "models_dict['MLP CV'] = {'model': mlp_best_estimator, 'accuracy': mlp_accuracy_cv}\n",
    "\n",
    "print(f\"Best Accuracy: {mlp_accuracy_cv:.2f}\")  \n",
    "print(\"Classification Report for MLP with CV:\\n\", classification_report_str)"
   ]
  },
  {
   "cell_type": "markdown",
   "metadata": {},
   "source": [
    "## SVM"
   ]
  },
  {
   "cell_type": "code",
   "execution_count": 35,
   "metadata": {},
   "outputs": [
    {
     "name": "stdout",
     "output_type": "stream",
     "text": [
      "Accuracy without CV: 73.03\n"
     ]
    }
   ],
   "source": [
    "from sklearn.svm import SVC\n",
    "\n",
    "svmModel = SVC(random_state=RANDOM_STATE)\n",
    "svmModel.fit(X_train, y_train)\n",
    "svm_pred = svmModel.predict(X_test)\n",
    "\n",
    "svm_accuracy = metrics.accuracy_score(y_test, svm_pred)*100\n",
    "\n",
    "models_dict['SVM'] = {'model': svmModel, 'accuracy': svm_accuracy}\n",
    "\n",
    "print(f\"Accuracy without CV: {svm_accuracy:.2f}\")"
   ]
  },
  {
   "cell_type": "code",
   "execution_count": 36,
   "metadata": {},
   "outputs": [
    {
     "name": "stdout",
     "output_type": "stream",
     "text": [
      "Best Accuracy: 73.24\n",
      "Classification Report for SVM with CV:\n",
      "               precision    recall  f1-score   support\n",
      "\n",
      "           0     0.7259    0.7516    0.7385      7041\n",
      "           1     0.7393    0.7129    0.7259      6959\n",
      "\n",
      "    accuracy                         0.7324     14000\n",
      "   macro avg     0.7326    0.7322    0.7322     14000\n",
      "weighted avg     0.7326    0.7324    0.7322     14000\n",
      "\n"
     ]
    }
   ],
   "source": [
    "svm_param_grid = {\n",
    "    'C': [0.1, 1, 10],\n",
    "    'kernel': ['linear', 'rbf', 'poly'],\n",
    "    'gamma': ['scale', 'auto'],\n",
    "}\n",
    "\n",
    "svm_best_params = {\n",
    "    'C': [10],\n",
    "    'kernel': ['rbf'],\n",
    "    'gamma': ['auto'],\n",
    "}\n",
    "\n",
    "svm_gridsearch = GridSearchCV(estimator=svmModel, param_grid=svm_best_params, cv=5, scoring='accuracy', n_jobs=-1)\n",
    "\n",
    "svm_gridsearch.fit(X_train, y_train)\n",
    "\n",
    "svm_best_params = svm_gridsearch.best_params_\n",
    "svm_best_estimator = svm_gridsearch.best_estimator_\n",
    "svm_pred_CV = svm_best_estimator.predict(X_test)\n",
    "svm_accuracy_cv = metrics.accuracy_score(y_test, svm_pred_CV)*100\n",
    "classification_report_str = classification_report(y_test, svm_pred_CV, digits=4)\n",
    "\n",
    "models_dict['SVM CV'] = {'model': svm_best_estimator, 'accuracy': svm_accuracy_cv}\n",
    "\n",
    "print(f\"Best Accuracy: {svm_accuracy_cv:.2f}\")\n",
    "print(\"Classification Report for SVM with CV:\\n\", classification_report_str)"
   ]
  },
  {
   "cell_type": "markdown",
   "metadata": {},
   "source": [
    "## Comparison of results"
   ]
  },
  {
   "cell_type": "code",
   "execution_count": 37,
   "metadata": {},
   "outputs": [
    {
     "name": "stdout",
     "output_type": "stream",
     "text": [
      "Random Forest: 71.81\n",
      "Random Forest CV: 73.47\n",
      "MLP: 73.52\n",
      "MLP CV: 73.57\n",
      "SVM: 73.03\n",
      "SVM CV: 73.24\n"
     ]
    }
   ],
   "source": [
    "for key, value in models_dict.items():\n",
    "    print(f\"{key}: {value['accuracy']:.2f}\")"
   ]
  },
  {
   "cell_type": "code",
   "execution_count": 39,
   "metadata": {},
   "outputs": [
    {
     "name": "stdout",
     "output_type": "stream",
     "text": [
      "Best model: MLP CV with accuracy: 73.57\n"
     ]
    },
    {
     "data": {
      "text/plain": [
       "['cardio_classifier.h5']"
      ]
     },
     "execution_count": 39,
     "metadata": {},
     "output_type": "execute_result"
    }
   ],
   "source": [
    "from joblib import dump\n",
    "\n",
    "# Select model with best accuracy\n",
    "best_result = max(models_dict, key=lambda x: models_dict[x]['accuracy'])\n",
    "best_model = models_dict[best_result]['model']\n",
    "print(f\"Best model: {best_result} with accuracy: {models_dict[best_result]['accuracy']:.2f}\")\n",
    "\n",
    "# Save best model to a file\n",
    "dump(best_model, 'cardio_classifier.h5')"
   ]
  }
 ],
 "metadata": {
  "kernelspec": {
   "display_name": ".venv",
   "language": "python",
   "name": "python3"
  },
  "language_info": {
   "codemirror_mode": {
    "name": "ipython",
    "version": 3
   },
   "file_extension": ".py",
   "mimetype": "text/x-python",
   "name": "python",
   "nbconvert_exporter": "python",
   "pygments_lexer": "ipython3",
   "version": "3.9.13"
  }
 },
 "nbformat": 4,
 "nbformat_minor": 2
}
