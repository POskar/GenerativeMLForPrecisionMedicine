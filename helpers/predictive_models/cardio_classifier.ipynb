{
 "cells": [
  {
   "cell_type": "code",
   "execution_count": 4,
   "metadata": {},
   "outputs": [],
   "source": [
    "import pandas as pd\n",
    "import numpy as np\n",
    "\n",
    "RANDOM_STATE = 404"
   ]
  },
  {
   "cell_type": "code",
   "execution_count": 5,
   "metadata": {},
   "outputs": [
    {
     "data": {
      "text/html": [
       "<div>\n",
       "<style scoped>\n",
       "    .dataframe tbody tr th:only-of-type {\n",
       "        vertical-align: middle;\n",
       "    }\n",
       "\n",
       "    .dataframe tbody tr th {\n",
       "        vertical-align: top;\n",
       "    }\n",
       "\n",
       "    .dataframe thead th {\n",
       "        text-align: right;\n",
       "    }\n",
       "</style>\n",
       "<table border=\"1\" class=\"dataframe\">\n",
       "  <thead>\n",
       "    <tr style=\"text-align: right;\">\n",
       "      <th></th>\n",
       "      <th>age</th>\n",
       "      <th>gender</th>\n",
       "      <th>height</th>\n",
       "      <th>weight</th>\n",
       "      <th>ap_hi</th>\n",
       "      <th>ap_lo</th>\n",
       "      <th>cholesterol</th>\n",
       "      <th>gluc</th>\n",
       "      <th>smoke</th>\n",
       "      <th>alco</th>\n",
       "      <th>active</th>\n",
       "      <th>cardio</th>\n",
       "    </tr>\n",
       "  </thead>\n",
       "  <tbody>\n",
       "    <tr>\n",
       "      <th>0</th>\n",
       "      <td>18393</td>\n",
       "      <td>2</td>\n",
       "      <td>168</td>\n",
       "      <td>62.0</td>\n",
       "      <td>110</td>\n",
       "      <td>80</td>\n",
       "      <td>1</td>\n",
       "      <td>1</td>\n",
       "      <td>0</td>\n",
       "      <td>0</td>\n",
       "      <td>1</td>\n",
       "      <td>0</td>\n",
       "    </tr>\n",
       "    <tr>\n",
       "      <th>1</th>\n",
       "      <td>20228</td>\n",
       "      <td>1</td>\n",
       "      <td>156</td>\n",
       "      <td>85.0</td>\n",
       "      <td>140</td>\n",
       "      <td>90</td>\n",
       "      <td>3</td>\n",
       "      <td>1</td>\n",
       "      <td>0</td>\n",
       "      <td>0</td>\n",
       "      <td>1</td>\n",
       "      <td>1</td>\n",
       "    </tr>\n",
       "    <tr>\n",
       "      <th>2</th>\n",
       "      <td>18857</td>\n",
       "      <td>1</td>\n",
       "      <td>165</td>\n",
       "      <td>64.0</td>\n",
       "      <td>130</td>\n",
       "      <td>70</td>\n",
       "      <td>3</td>\n",
       "      <td>1</td>\n",
       "      <td>0</td>\n",
       "      <td>0</td>\n",
       "      <td>0</td>\n",
       "      <td>1</td>\n",
       "    </tr>\n",
       "    <tr>\n",
       "      <th>3</th>\n",
       "      <td>17623</td>\n",
       "      <td>2</td>\n",
       "      <td>169</td>\n",
       "      <td>82.0</td>\n",
       "      <td>150</td>\n",
       "      <td>100</td>\n",
       "      <td>1</td>\n",
       "      <td>1</td>\n",
       "      <td>0</td>\n",
       "      <td>0</td>\n",
       "      <td>1</td>\n",
       "      <td>1</td>\n",
       "    </tr>\n",
       "    <tr>\n",
       "      <th>4</th>\n",
       "      <td>17474</td>\n",
       "      <td>1</td>\n",
       "      <td>156</td>\n",
       "      <td>56.0</td>\n",
       "      <td>100</td>\n",
       "      <td>60</td>\n",
       "      <td>1</td>\n",
       "      <td>1</td>\n",
       "      <td>0</td>\n",
       "      <td>0</td>\n",
       "      <td>0</td>\n",
       "      <td>0</td>\n",
       "    </tr>\n",
       "  </tbody>\n",
       "</table>\n",
       "</div>"
      ],
      "text/plain": [
       "     age  gender  height  weight  ap_hi  ap_lo  cholesterol  gluc  smoke  \\\n",
       "0  18393       2     168    62.0    110     80            1     1      0   \n",
       "1  20228       1     156    85.0    140     90            3     1      0   \n",
       "2  18857       1     165    64.0    130     70            3     1      0   \n",
       "3  17623       2     169    82.0    150    100            1     1      0   \n",
       "4  17474       1     156    56.0    100     60            1     1      0   \n",
       "\n",
       "   alco  active  cardio  \n",
       "0     0       1       0  \n",
       "1     0       1       1  \n",
       "2     0       0       1  \n",
       "3     0       1       1  \n",
       "4     0       0       0  "
      ]
     },
     "execution_count": 5,
     "metadata": {},
     "output_type": "execute_result"
    }
   ],
   "source": [
    "df = pd.read_csv('../../data/cardio_train.csv', delimiter=';')\n",
    "df.drop(columns=['id'], inplace=True)\n",
    "df.head()"
   ]
  },
  {
   "cell_type": "code",
   "execution_count": 6,
   "metadata": {},
   "outputs": [],
   "source": [
    "X = df.drop(columns=['cardio'])\n",
    "y = df['cardio']"
   ]
  },
  {
   "cell_type": "code",
   "execution_count": 7,
   "metadata": {},
   "outputs": [
    {
     "data": {
      "text/plain": [
       "array([0, 1, 1, ..., 1, 1, 0], dtype=int64)"
      ]
     },
     "execution_count": 7,
     "metadata": {},
     "output_type": "execute_result"
    }
   ],
   "source": [
    "from sklearn.preprocessing import LabelEncoder\n",
    "\n",
    "label_encoder = LabelEncoder()\n",
    "y = label_encoder.fit_transform(y) \n",
    "y"
   ]
  },
  {
   "cell_type": "code",
   "execution_count": 8,
   "metadata": {},
   "outputs": [
    {
     "data": {
      "text/html": [
       "<div>\n",
       "<style scoped>\n",
       "    .dataframe tbody tr th:only-of-type {\n",
       "        vertical-align: middle;\n",
       "    }\n",
       "\n",
       "    .dataframe tbody tr th {\n",
       "        vertical-align: top;\n",
       "    }\n",
       "\n",
       "    .dataframe thead th {\n",
       "        text-align: right;\n",
       "    }\n",
       "</style>\n",
       "<table border=\"1\" class=\"dataframe\">\n",
       "  <thead>\n",
       "    <tr style=\"text-align: right;\">\n",
       "      <th></th>\n",
       "      <th>age</th>\n",
       "      <th>gender</th>\n",
       "      <th>height</th>\n",
       "      <th>weight</th>\n",
       "      <th>ap_hi</th>\n",
       "      <th>ap_lo</th>\n",
       "      <th>cholesterol</th>\n",
       "      <th>gluc</th>\n",
       "      <th>smoke</th>\n",
       "      <th>alco</th>\n",
       "      <th>active</th>\n",
       "    </tr>\n",
       "  </thead>\n",
       "  <tbody>\n",
       "    <tr>\n",
       "      <th>0</th>\n",
       "      <td>0.588076</td>\n",
       "      <td>2</td>\n",
       "      <td>0.579487</td>\n",
       "      <td>0.273684</td>\n",
       "      <td>0.016079</td>\n",
       "      <td>0.013550</td>\n",
       "      <td>1</td>\n",
       "      <td>1</td>\n",
       "      <td>0</td>\n",
       "      <td>0</td>\n",
       "      <td>1</td>\n",
       "    </tr>\n",
       "    <tr>\n",
       "      <th>1</th>\n",
       "      <td>0.730159</td>\n",
       "      <td>1</td>\n",
       "      <td>0.517949</td>\n",
       "      <td>0.394737</td>\n",
       "      <td>0.017934</td>\n",
       "      <td>0.014453</td>\n",
       "      <td>3</td>\n",
       "      <td>1</td>\n",
       "      <td>0</td>\n",
       "      <td>0</td>\n",
       "      <td>1</td>\n",
       "    </tr>\n",
       "    <tr>\n",
       "      <th>2</th>\n",
       "      <td>0.624003</td>\n",
       "      <td>1</td>\n",
       "      <td>0.564103</td>\n",
       "      <td>0.284211</td>\n",
       "      <td>0.017316</td>\n",
       "      <td>0.012647</td>\n",
       "      <td>3</td>\n",
       "      <td>1</td>\n",
       "      <td>0</td>\n",
       "      <td>0</td>\n",
       "      <td>0</td>\n",
       "    </tr>\n",
       "    <tr>\n",
       "      <th>3</th>\n",
       "      <td>0.528455</td>\n",
       "      <td>2</td>\n",
       "      <td>0.584615</td>\n",
       "      <td>0.378947</td>\n",
       "      <td>0.018553</td>\n",
       "      <td>0.015357</td>\n",
       "      <td>1</td>\n",
       "      <td>1</td>\n",
       "      <td>0</td>\n",
       "      <td>0</td>\n",
       "      <td>1</td>\n",
       "    </tr>\n",
       "    <tr>\n",
       "      <th>4</th>\n",
       "      <td>0.516918</td>\n",
       "      <td>1</td>\n",
       "      <td>0.517949</td>\n",
       "      <td>0.242105</td>\n",
       "      <td>0.015461</td>\n",
       "      <td>0.011743</td>\n",
       "      <td>1</td>\n",
       "      <td>1</td>\n",
       "      <td>0</td>\n",
       "      <td>0</td>\n",
       "      <td>0</td>\n",
       "    </tr>\n",
       "  </tbody>\n",
       "</table>\n",
       "</div>"
      ],
      "text/plain": [
       "        age  gender    height    weight     ap_hi     ap_lo  cholesterol  \\\n",
       "0  0.588076       2  0.579487  0.273684  0.016079  0.013550            1   \n",
       "1  0.730159       1  0.517949  0.394737  0.017934  0.014453            3   \n",
       "2  0.624003       1  0.564103  0.284211  0.017316  0.012647            3   \n",
       "3  0.528455       2  0.584615  0.378947  0.018553  0.015357            1   \n",
       "4  0.516918       1  0.517949  0.242105  0.015461  0.011743            1   \n",
       "\n",
       "   gluc  smoke  alco  active  \n",
       "0     1      0     0       1  \n",
       "1     1      0     0       1  \n",
       "2     1      0     0       0  \n",
       "3     1      0     0       1  \n",
       "4     1      0     0       0  "
      ]
     },
     "execution_count": 8,
     "metadata": {},
     "output_type": "execute_result"
    }
   ],
   "source": [
    "from sklearn.preprocessing import StandardScaler, MinMaxScaler, OneHotEncoder\n",
    "\n",
    "# Select columns to be scaled\n",
    "numeric_columns = ['age', 'height', 'weight', 'ap_hi', 'ap_lo']\n",
    "categorical_columns = ['gender', 'cholesterol', 'gluc', 'smoke', 'alco', 'active']\n",
    "\n",
    "# Fit and transform your data (only for numeric columns)\n",
    "scaler = MinMaxScaler()\n",
    "X[numeric_columns] = scaler.fit_transform(X[numeric_columns])\n",
    "\n",
    "# # Apply one-hot encoding to categorical columns\n",
    "# encoder = OneHotEncoder(sparse_output=False)  # Create the encoder\n",
    "# X_encoded = encoder.fit_transform(X[categorical_columns])  # Fit and transform the categorical data\n",
    "# column_names = encoder.get_feature_names_out(categorical_columns)  # Get new column names for encoded features\n",
    "# X_encoded = pd.DataFrame(X_encoded, columns=column_names)  # Create a DataFrame with the new column names\n",
    "\n",
    "# # Drop original categorical columns and concatenate the new encoded DataFrame\n",
    "# X = X.drop(categorical_columns, axis=1)\n",
    "# X = pd.concat([X, X_encoded], axis=1)\n",
    "    \n",
    "X.head(5)"
   ]
  },
  {
   "cell_type": "code",
   "execution_count": 9,
   "metadata": {},
   "outputs": [],
   "source": [
    "# Dictionary to store models and their results\n",
    "models_dict = {}"
   ]
  },
  {
   "cell_type": "code",
   "execution_count": 10,
   "metadata": {},
   "outputs": [],
   "source": [
    "from sklearn.model_selection import train_test_split\n",
    "\n",
    "# Split into train and test\n",
    "X_train, X_test, y_train, y_test = train_test_split(X, y, test_size=0.2, random_state=RANDOM_STATE)"
   ]
  },
  {
   "cell_type": "markdown",
   "metadata": {},
   "source": [
    "### Random Forest classifier"
   ]
  },
  {
   "cell_type": "code",
   "execution_count": 11,
   "metadata": {},
   "outputs": [
    {
     "name": "stdout",
     "output_type": "stream",
     "text": [
      "Accuracy without CV: 71.89\n"
     ]
    }
   ],
   "source": [
    "from sklearn.ensemble import RandomForestClassifier\n",
    "from sklearn import metrics\n",
    "\n",
    "rfModel = RandomForestClassifier(random_state=RANDOM_STATE)\n",
    "\n",
    "rfModel.fit(X_train, y_train)\n",
    "\n",
    "rf_pred = rfModel.predict(X_test)\n",
    "\n",
    "rf_accuracy = metrics.accuracy_score(y_test, rf_pred)*100\n",
    "\n",
    "models_dict['Random Forest'] = {'model': rfModel, 'accuracy': rf_accuracy}\n",
    "\n",
    "print(f\"Accuracy without CV: {rf_accuracy:.2f}\")"
   ]
  },
  {
   "cell_type": "code",
   "execution_count": 12,
   "metadata": {},
   "outputs": [
    {
     "name": "stdout",
     "output_type": "stream",
     "text": [
      "Best Accuracy: 73.45\n",
      "Classification Report for RF with CV:\n",
      "               precision    recall  f1-score   support\n",
      "\n",
      "           0     0.7234    0.7644    0.7433      7041\n",
      "           1     0.7471    0.7043    0.7251      6959\n",
      "\n",
      "    accuracy                         0.7345     14000\n",
      "   macro avg     0.7352    0.7343    0.7342     14000\n",
      "weighted avg     0.7352    0.7345    0.7342     14000\n",
      "\n"
     ]
    }
   ],
   "source": [
    "from sklearn.model_selection import GridSearchCV\n",
    "from sklearn.metrics import classification_report\n",
    "\n",
    "param_grid = {\n",
    "    'n_estimators': [100, 200, 300, 500],\n",
    "    'max_depth': [None, 10, 20, 30],\n",
    "    'min_samples_split': [2, 5, 10, 20],\n",
    "    'min_samples_leaf': [1, 2, 4, 8],\n",
    "    'max_features': ['sqrt', 'log2', None],\n",
    "}\n",
    "\n",
    "rf_best_params = {\n",
    "    'n_estimators': [100],\n",
    "    'max_depth': [10],\n",
    "    'min_samples_split': [10],\n",
    "    'min_samples_leaf': [1],\n",
    "    'max_features': [None],\n",
    "}\n",
    "\n",
    "rf_gridsearch = GridSearchCV(estimator=rfModel,param_grid=rf_best_params, cv=5, scoring='accuracy',n_jobs=-1)\n",
    "rf_gridsearch.fit(X_train, y_train)\n",
    "\n",
    "rf_best_params = rf_gridsearch.best_params_\n",
    "rf_best_estimator = rf_gridsearch.best_estimator_\n",
    "rf_pred_CV = rf_best_estimator.predict(X_test)\n",
    "rf_accuracy_cv = metrics.accuracy_score(y_test, rf_pred_CV)*100\n",
    "classification_report_str = classification_report(y_test, rf_pred_CV, digits=4)\n",
    "\n",
    "models_dict['Random Forest CV'] = {'model': rf_best_estimator, 'accuracy': rf_accuracy_cv}\n",
    "\n",
    "print(f\"Best Accuracy: {rf_accuracy_cv:.2f}\")\n",
    "print(\"Classification Report for RF with CV:\\n\", classification_report_str)"
   ]
  },
  {
   "cell_type": "markdown",
   "metadata": {},
   "source": [
    "### MLP"
   ]
  },
  {
   "cell_type": "code",
   "execution_count": 13,
   "metadata": {},
   "outputs": [
    {
     "name": "stdout",
     "output_type": "stream",
     "text": [
      "Accuracy without CV: 71.99\n"
     ]
    }
   ],
   "source": [
    "from sklearn.neural_network import MLPClassifier\n",
    "\n",
    "mlpModel = MLPClassifier(random_state=1)\n",
    "mlpModel.fit(X_train, y_train)\n",
    "mlp_pred = mlpModel.predict(X_test)\n",
    "\n",
    "mlp_accuracy = metrics.accuracy_score(y_test, mlp_pred)*100\n",
    "\n",
    "models_dict['MLP'] = {'model': mlpModel, 'accuracy': mlp_accuracy}\n",
    "\n",
    "print(f\"Accuracy without CV: {mlp_accuracy:.2f}\")"
   ]
  },
  {
   "cell_type": "code",
   "execution_count": 14,
   "metadata": {},
   "outputs": [
    {
     "name": "stdout",
     "output_type": "stream",
     "text": [
      "Best Accuracy: 71.44\n",
      "Classification Report for MLP with CV:\n",
      "               precision    recall  f1-score   support\n",
      "\n",
      "           0     0.6778    0.8235    0.7436      7041\n",
      "           1     0.7718    0.6040    0.6776      6959\n",
      "\n",
      "    accuracy                         0.7144     14000\n",
      "   macro avg     0.7248    0.7137    0.7106     14000\n",
      "weighted avg     0.7245    0.7144    0.7108     14000\n",
      "\n"
     ]
    }
   ],
   "source": [
    "mlp_best_params = {\n",
    "    'activation': ['tanh'],\n",
    "    'alpha': [0.01],\n",
    "    'hidden_layer_sizes': [(50, 50)],\n",
    "    'max_iter': [300],\n",
    "    'solver': ['adam'],\n",
    "}\n",
    "\n",
    "mlp_gridsearch = GridSearchCV(estimator=mlpModel, param_grid=mlp_best_params, cv=5, scoring='accuracy', n_jobs=-1)\n",
    "mlp_gridsearch.fit(X_train, y_train)\n",
    "\n",
    "mlp_best_estimator = mlp_gridsearch.best_estimator_\n",
    "mlp_pred_CV = mlp_best_estimator.predict(X_test)\n",
    "mlp_accuracy_cv = metrics.accuracy_score(y_test, mlp_pred_CV)*100\n",
    "classification_report_str = classification_report(y_test, mlp_pred_CV, digits=4)\n",
    "\n",
    "models_dict['MLP CV'] = {'model': mlp_best_estimator, 'accuracy': mlp_accuracy_cv}\n",
    "\n",
    "print(f\"Best Accuracy: {mlp_accuracy_cv:.2f}\")  \n",
    "print(\"Classification Report for MLP with CV:\\n\", classification_report_str)"
   ]
  },
  {
   "cell_type": "markdown",
   "metadata": {},
   "source": [
    "### SVM"
   ]
  },
  {
   "cell_type": "code",
   "execution_count": 15,
   "metadata": {},
   "outputs": [
    {
     "name": "stdout",
     "output_type": "stream",
     "text": [
      "Accuracy without CV: 71.99\n"
     ]
    }
   ],
   "source": [
    "from sklearn.svm import SVC\n",
    "\n",
    "svmModel = SVC(random_state=1)\n",
    "svmModel.fit(X_train, y_train)\n",
    "svm_pred = mlpModel.predict(X_test)\n",
    "\n",
    "svm_accuracy = metrics.accuracy_score(y_test, svm_pred)*100\n",
    "\n",
    "models_dict['SVM'] = {'model': svmModel, 'accuracy': svm_accuracy}\n",
    "\n",
    "print(f\"Accuracy without CV: {svm_accuracy:.2f}\")"
   ]
  },
  {
   "cell_type": "code",
   "execution_count": 16,
   "metadata": {},
   "outputs": [
    {
     "name": "stdout",
     "output_type": "stream",
     "text": [
      "Best Accuracy: 64.09\n",
      "Classification Report for SVM with CV:\n",
      "               precision    recall  f1-score   support\n",
      "\n",
      "           0     0.6365    0.6670    0.6514      7041\n",
      "           1     0.6459    0.6146    0.6299      6959\n",
      "\n",
      "    accuracy                         0.6409     14000\n",
      "   macro avg     0.6412    0.6408    0.6406     14000\n",
      "weighted avg     0.6412    0.6409    0.6407     14000\n",
      "\n"
     ]
    }
   ],
   "source": [
    "svm_param_grid = {\n",
    "    'C': [0.1, 1, 10],\n",
    "    'kernel': ['linear', 'rbf', 'poly'],\n",
    "    'gamma': ['scale', 'auto'],\n",
    "}\n",
    "\n",
    "svm_best_params = {\n",
    "    'C': [10],\n",
    "    'kernel': ['rbf'],\n",
    "    'gamma': ['auto'],\n",
    "}\n",
    "\n",
    "svm_gridsearch = GridSearchCV(estimator=svmModel, param_grid=svm_best_params, cv=5, scoring='accuracy', n_jobs=-1)\n",
    "\n",
    "svm_gridsearch.fit(X_train, y_train)\n",
    "\n",
    "svm_best_params = svm_gridsearch.best_params_\n",
    "svm_best_estimator = svm_gridsearch.best_estimator_\n",
    "svm_pred_CV = svm_best_estimator.predict(X_test)\n",
    "svm_accuracy_cv = metrics.accuracy_score(y_test, svm_pred_CV)*100\n",
    "classification_report_str = classification_report(y_test, svm_pred_CV, digits=4)\n",
    "\n",
    "models_dict['SVM CV'] = {'model': svm_best_estimator, 'accuracy': svm_accuracy_cv}\n",
    "\n",
    "print(f\"Best Accuracy: {svm_accuracy_cv:.2f}\")\n",
    "print(\"Classification Report for SVM with CV:\\n\", classification_report_str)"
   ]
  },
  {
   "cell_type": "markdown",
   "metadata": {},
   "source": [
    "### NN"
   ]
  },
  {
   "cell_type": "code",
   "execution_count": 17,
   "metadata": {},
   "outputs": [
    {
     "name": "stdout",
     "output_type": "stream",
     "text": [
      "WARNING:tensorflow:From c:\\Users\\pieni\\Documents\\GitHub\\GenerativeMLForPrecisionMedicine\\.venv\\lib\\site-packages\\keras\\src\\losses.py:2976: The name tf.losses.sparse_softmax_cross_entropy is deprecated. Please use tf.compat.v1.losses.sparse_softmax_cross_entropy instead.\n",
      "\n",
      "WARNING:tensorflow:From c:\\Users\\pieni\\Documents\\GitHub\\GenerativeMLForPrecisionMedicine\\.venv\\lib\\site-packages\\keras\\src\\backend.py:873: The name tf.get_default_graph is deprecated. Please use tf.compat.v1.get_default_graph instead.\n",
      "\n",
      "WARNING:tensorflow:From c:\\Users\\pieni\\Documents\\GitHub\\GenerativeMLForPrecisionMedicine\\.venv\\lib\\site-packages\\keras\\src\\optimizers\\__init__.py:309: The name tf.train.Optimizer is deprecated. Please use tf.compat.v1.train.Optimizer instead.\n",
      "\n",
      "Epoch 1/10\n",
      "WARNING:tensorflow:From c:\\Users\\pieni\\Documents\\GitHub\\GenerativeMLForPrecisionMedicine\\.venv\\lib\\site-packages\\keras\\src\\utils\\tf_utils.py:492: The name tf.ragged.RaggedTensorValue is deprecated. Please use tf.compat.v1.ragged.RaggedTensorValue instead.\n",
      "\n",
      "WARNING:tensorflow:From c:\\Users\\pieni\\Documents\\GitHub\\GenerativeMLForPrecisionMedicine\\.venv\\lib\\site-packages\\keras\\src\\engine\\base_layer_utils.py:384: The name tf.executing_eagerly_outside_functions is deprecated. Please use tf.compat.v1.executing_eagerly_outside_functions instead.\n",
      "\n",
      "1400/1400 [==============================] - 4s 2ms/step - loss: 0.6571 - accuracy: 0.6075 - val_loss: 0.6413 - val_accuracy: 0.6334\n",
      "Epoch 2/10\n",
      "1400/1400 [==============================] - 3s 2ms/step - loss: 0.6375 - accuracy: 0.6357 - val_loss: 0.6327 - val_accuracy: 0.6437\n",
      "Epoch 3/10\n",
      "1400/1400 [==============================] - 3s 2ms/step - loss: 0.6317 - accuracy: 0.6444 - val_loss: 0.6288 - val_accuracy: 0.6419\n",
      "Epoch 4/10\n",
      "1400/1400 [==============================] - 3s 2ms/step - loss: 0.6299 - accuracy: 0.6456 - val_loss: 0.6282 - val_accuracy: 0.6428\n",
      "Epoch 5/10\n",
      "1400/1400 [==============================] - 3s 2ms/step - loss: 0.6287 - accuracy: 0.6480 - val_loss: 0.6310 - val_accuracy: 0.6444\n",
      "Epoch 6/10\n",
      "1400/1400 [==============================] - 3s 2ms/step - loss: 0.6276 - accuracy: 0.6493 - val_loss: 0.6282 - val_accuracy: 0.6505\n",
      "Epoch 7/10\n",
      "1400/1400 [==============================] - 3s 2ms/step - loss: 0.6274 - accuracy: 0.6488 - val_loss: 0.6310 - val_accuracy: 0.6469\n",
      "Epoch 8/10\n",
      "1400/1400 [==============================] - 3s 2ms/step - loss: 0.6272 - accuracy: 0.6484 - val_loss: 0.6270 - val_accuracy: 0.6473\n",
      "Epoch 9/10\n",
      "1400/1400 [==============================] - 3s 2ms/step - loss: 0.6251 - accuracy: 0.6523 - val_loss: 0.6295 - val_accuracy: 0.6421\n",
      "Epoch 10/10\n",
      "1400/1400 [==============================] - 3s 2ms/step - loss: 0.6244 - accuracy: 0.6515 - val_loss: 0.6312 - val_accuracy: 0.6389\n",
      "438/438 [==============================] - 1s 2ms/step - loss: 0.6309 - accuracy: 0.6383\n",
      "Test Accuracy: 0.6383\n"
     ]
    }
   ],
   "source": [
    "import tensorflow as tf\n",
    "from tensorflow.keras.models import Sequential\n",
    "from tensorflow.keras.layers import Dense, Dropout\n",
    "\n",
    "# Initialize a sequential model\n",
    "model = Sequential()\n",
    "\n",
    "# Add input layer\n",
    "model.add(Dense(units=64, activation='relu', input_dim=X_train.shape[1]))\n",
    "model.add(Dense(units=32, activation='relu'))\n",
    "model.add(Dropout(0.2))\n",
    "model.add(Dense(units=1, activation='sigmoid'))\n",
    "\n",
    "# Compile the model\n",
    "model.compile(optimizer='adam', loss='binary_crossentropy', metrics=['accuracy'])\n",
    "\n",
    "# Train the model\n",
    "model.fit(X_train, y_train, epochs=10, batch_size=32, validation_split=0.2)\n",
    "\n",
    "# Evaluate the model\n",
    "test_loss, test_accuracy = model.evaluate(X_test, y_test)\n",
    "\n",
    "models_dict['NN'] = {'model': model, 'accuracy': test_accuracy*100}\n",
    "\n",
    "print(f\"Test Accuracy: {test_accuracy:.4f}\")"
   ]
  },
  {
   "cell_type": "markdown",
   "metadata": {},
   "source": [
    "### Comparison of results"
   ]
  },
  {
   "cell_type": "code",
   "execution_count": 18,
   "metadata": {},
   "outputs": [
    {
     "name": "stdout",
     "output_type": "stream",
     "text": [
      "Random Forest: 71.89\n",
      "Random Forest CV: 73.45\n",
      "MLP: 71.99\n",
      "MLP CV: 71.44\n",
      "SVM: 71.99\n",
      "SVM CV: 64.09\n",
      "NN: 63.83\n"
     ]
    }
   ],
   "source": [
    "for key, value in models_dict.items():\n",
    "    print(f\"{key}: {value['accuracy']:.2f}\")    "
   ]
  },
  {
   "cell_type": "code",
   "execution_count": 19,
   "metadata": {},
   "outputs": [
    {
     "name": "stdout",
     "output_type": "stream",
     "text": [
      "Best model: Random Forest CV with accuracy: 73.45\n"
     ]
    },
    {
     "data": {
      "text/plain": [
       "['cardio_classifier.h5']"
      ]
     },
     "execution_count": 19,
     "metadata": {},
     "output_type": "execute_result"
    }
   ],
   "source": [
    "from joblib import dump\n",
    "\n",
    "# Select model with best accuracy\n",
    "best_result = max(models_dict, key=lambda x: models_dict[x]['accuracy'])\n",
    "best_model = models_dict[best_result]['model']\n",
    "print(f\"Best model: {best_result} with accuracy: {models_dict[best_result]['accuracy']:.2f}\")\n",
    "\n",
    "# Save best model to a file\n",
    "dump(model, 'cardio_classifier.h5')"
   ]
  }
 ],
 "metadata": {
  "kernelspec": {
   "display_name": ".venv",
   "language": "python",
   "name": "python3"
  },
  "language_info": {
   "codemirror_mode": {
    "name": "ipython",
    "version": 3
   },
   "file_extension": ".py",
   "mimetype": "text/x-python",
   "name": "python",
   "nbconvert_exporter": "python",
   "pygments_lexer": "ipython3",
   "version": "3.9.13"
  }
 },
 "nbformat": 4,
 "nbformat_minor": 2
}
