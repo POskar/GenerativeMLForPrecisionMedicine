{
 "cells": [
  {
   "cell_type": "code",
   "execution_count": null,
   "metadata": {},
   "outputs": [],
   "source": [
    "import pandas as pd\n",
    "import numpy as np\n",
    "\n",
    "RANDOM_STATE = 404"
   ]
  },
  {
   "cell_type": "code",
   "execution_count": null,
   "metadata": {},
   "outputs": [],
   "source": [
    "df = pd.read_csv('data/HAD.csv')\n",
    "df.head()"
   ]
  },
  {
   "cell_type": "code",
   "execution_count": null,
   "metadata": {},
   "outputs": [],
   "source": [
    "target_feature = 'MRS_90'\n",
    "y = df.filter([target_feature])\n",
    "y.to_csv('data/HAD_target.csv', index=False)"
   ]
  },
  {
   "cell_type": "markdown",
   "metadata": {},
   "source": [
    "#### Because of the warning given while imputing missing values, 'SERUM_GLUCOSE' and 'VALV_HEART' columns are removed due to not having any other entry than '-1' value"
   ]
  },
  {
   "cell_type": "code",
   "execution_count": null,
   "metadata": {},
   "outputs": [],
   "source": [
    "df = df.drop(columns={'SERUM_GLUCOSE', 'SERUM_GLUCOSE_MISSING', 'VALV_HEART', 'MRS_90', 'MRS_90_DICHO'}, axis=1)\n",
    "df.shape"
   ]
  },
  {
   "cell_type": "markdown",
   "metadata": {},
   "source": [
    "### Generating missing data based on sklearn imputers"
   ]
  },
  {
   "cell_type": "code",
   "execution_count": null,
   "metadata": {},
   "outputs": [],
   "source": [
    "from sklearn.impute import SimpleImputer\n",
    "from sklearn.experimental import enable_iterative_imputer\n",
    "from sklearn.impute import IterativeImputer\n",
    "# import warnings\n",
    "# warnings.filterwarnings('ignore')\n",
    "\n",
    "imputer_df = df.copy()\n",
    "\n",
    "missing_flag_cols = [col for col in df.columns if col.endswith('_MISSING')]\n",
    "\n",
    "# imp = SimpleImputer(missing_values=-1, strategy='median')\n",
    "imp = IterativeImputer(missing_values=-1, initial_strategy='median', random_state=RANDOM_STATE)\n",
    "\n",
    "# Iterate over columns with missingness flags to heck if imputation is needed and apply imputation only if missingness flag is set to 1\n",
    "for missing_flag_col in missing_flag_cols:\n",
    "    value_col = missing_flag_col.replace('_MISSING', '')\n",
    "    \n",
    "    if (imputer_df[missing_flag_col] == 1).any():\n",
    "        imp.fit(imputer_df[[value_col]])\n",
    "        imputer_df[value_col] = imp.transform(imputer_df[[value_col]]).ravel()\n",
    "        # # Update missingness flag to 2 for imputed values\n",
    "        # imputer_df[missing_flag_col] = imputer_df[missing_flag_col].replace(1, 2)\n",
    "\n",
    "imputer_df = imputer_df[imputer_df.columns.drop(list(imputer_df.filter(regex='MISSING')))]\n",
    "imputer_df.to_csv('data/HAD_no_missingness.csv', index=False)\n",
    "imputer_df.head()"
   ]
  },
  {
   "cell_type": "markdown",
   "metadata": {},
   "source": [
    "### Using BIC to get the optimal number of components for GMM"
   ]
  },
  {
   "cell_type": "code",
   "execution_count": null,
   "metadata": {},
   "outputs": [],
   "source": [
    "import numpy as np\n",
    "import matplotlib.pyplot as plt\n",
    "from sklearn.mixture import GaussianMixture\n",
    "\n",
    "def compute_bic(X, n_components_range):\n",
    "    bic = []\n",
    "    for n_components in n_components_range:\n",
    "        gmm = GaussianMixture(n_components=n_components, random_state=RANDOM_STATE)\n",
    "        gmm.fit(X)\n",
    "        bic.append(gmm.bic(X))\n",
    "    return bic\n",
    "\n",
    "n_components_range = range(1, 11)\n",
    "\n",
    "bic_values = compute_bic(imputer_df, n_components_range)\n",
    "\n",
    "optimal_n_components = n_components_range[np.argmin(bic_values)]\n",
    "\n",
    "plt.plot(n_components_range, bic_values, marker='o')\n",
    "plt.xlabel('Number of Components')\n",
    "plt.ylabel('BIC Value')\n",
    "plt.title('BIC for Gaussian Mixture Models')\n",
    "plt.grid(True)\n",
    "plt.show()"
   ]
  },
  {
   "cell_type": "markdown",
   "metadata": {},
   "source": [
    "### Gaussian Mixture Model fitting"
   ]
  },
  {
   "cell_type": "code",
   "execution_count": null,
   "metadata": {},
   "outputs": [],
   "source": [
    "gmm = GaussianMixture(n_components=optimal_n_components, random_state=RANDOM_STATE)\n",
    "gmm.fit(imputer_df)"
   ]
  },
  {
   "cell_type": "markdown",
   "metadata": {},
   "source": [
    "### Trying to manually sample from the closest distribution"
   ]
  },
  {
   "cell_type": "code",
   "execution_count": null,
   "metadata": {},
   "outputs": [],
   "source": [
    "temp_df = df.iloc[:5].copy()\n",
    "temp_df = temp_df[temp_df.columns.drop(list(temp_df.filter(regex='MISSING')))]\n",
    "temp_df"
   ]
  },
  {
   "cell_type": "code",
   "execution_count": null,
   "metadata": {},
   "outputs": [],
   "source": [
    "from scipy.linalg import eigh\n",
    "\n",
    "def is_positive_definite(matrix):\n",
    "    # Check if the matrix is symmetric\n",
    "    if not np.allclose(matrix, matrix.T):\n",
    "        return False\n",
    "    \n",
    "    # Check if all eigenvalues are positive\n",
    "    eig_vals, _ = eigh(matrix)\n",
    "    return np.all(eig_vals > 0)\n",
    "\n",
    "def check_covariance_matrices(covariances):\n",
    "    for i, cov in enumerate(covariances):\n",
    "        if not is_positive_definite(cov):\n",
    "            print(f\"Covariance matrix {i+1} is not positive definite.\")\n",
    "        else:\n",
    "            print(f\"Covariance matrix {i+1} is positive definite.\")\n",
    "\n",
    "# Example usage:\n",
    "# Assuming 'covariances' is a list of covariance matrices\n",
    "# Check if all covariance matrices are positive definite\n",
    "check_covariance_matrices(gmm.covariances_)\n"
   ]
  },
  {
   "cell_type": "code",
   "execution_count": null,
   "metadata": {},
   "outputs": [],
   "source": [
    "from ConditionalGMM.ConditionalGMM.condGMM import CondGMM\n",
    "\n",
    "unknown_features_indexes = []\n",
    "\n",
    "for index, row in df.iterrows():\n",
    "    for missing_flag_col in missing_flag_cols:\n",
    "        mv_column = missing_flag_col\n",
    "        v_column = missing_flag_col.replace('_MISSING', '')\n",
    "        mv_flag = row[mv_column]\n",
    "        v_value = row[v_column]\n",
    "        \n",
    "        if mv_flag == 1 and v_value == -1:\n",
    "            unknown_features_indexes.append(temp_df.columns.get_loc(v_column))  # Use columns from temp_df\n",
    "        \n",
    "    known_features_indexes = list(set(range(temp_df.shape[1])) - set(unknown_features_indexes))  # Use indexes from temp_df\n",
    "    \n",
    "    known_features_values = temp_df.iloc[index, known_features_indexes]  # Use values from temp_df\n",
    "    unknown_features_values = temp_df.iloc[index, unknown_features_indexes]  # Use values from temp_df\n",
    "\n",
    "    cGMM = CondGMM(gmm.weights_, gmm.means_, gmm.covariances_, known_features_indexes)\n",
    "    \n",
    "    sampled_data = cGMM.rvs(known_features_values, size=1)  # Sample from the conditional Gaussian Mixture Model\n",
    "    \n",
    "    temp_df.iloc[index, unknown_features_indexes] = sampled_data[0, -len(unknown_features_indexes):]  # Impute sampled data into temp_df\n",
    "\n",
    "    unknown_features_indexes = []  # Reset for the next iteration\n",
    "    known_features_indexes = []  # Reset for the next iteration"
   ]
  },
  {
   "cell_type": "code",
   "execution_count": null,
   "metadata": {},
   "outputs": [],
   "source": [
    "# # Number of components in the GMM\n",
    "# num_components = 2\n",
    "\n",
    "# # Example weights for the GMM (summing to 1)\n",
    "# weights = np.array([0.5, 0.5])\n",
    "\n",
    "# # Example means for the GMM\n",
    "# means = np.array([[-2, -5, 0], [3, -3, 0]])  # Example means for each component in 3D space\n",
    "\n",
    "# # Example covariances for the GMM\n",
    "# covs = np.array([[[1, 0.5, 0], [0.5, 1, 0], [0, 0, 1]],  # Covariance matrix for the first component\n",
    "#                  [[1, -0.5, 0], [-0.5, 1, 0], [0, 0, 1]]])  # Covariance matrix for the second component\n",
    "\n",
    "# # Initialize the ConditionalGMM object\n",
    "# cGMM = CondGMM(weights, means, covs, fixed_indices=[0])\n",
    "\n",
    "# # Define the range of y and z values\n",
    "# y_values = np.linspace(-12, 0, 200)\n",
    "# z_values = np.linspace(-3, 3, 200)\n",
    "\n",
    "# # Draw random samples for each value of x_obs\n",
    "# N = 100\n",
    "# x_obs = np.array([-1, 4, 7])a\n",
    "\n",
    "# for x in x_obs:\n",
    "#     # Compute the conditional probability distributions\n",
    "#     y_cpdf = np.array([cGMM.conditional_pdf([yi, 0], x) for yi in y_values])  # Fix z=0\n",
    "#     z_cpdf = np.array([cGMM.conditional_pdf([0, zi], x) for zi in z_values])  # Fix y=0\n",
    "    \n",
    "#     # Draw random samples from the conditional GMM\n",
    "#     y_rvs = cGMM.rvs([x, 0], size=N)  # Fix z=0\n",
    "#     z_rvs = cGMM.rvs([x, 0], size=N)  # Fix y=0\n",
    "\n",
    "#     # Now you can use y_rvs and z_rvs arrays containing random samples from the conditional GMM\n"
   ]
  },
  {
   "cell_type": "code",
   "execution_count": null,
   "metadata": {},
   "outputs": [],
   "source": [
    "# concatenated_df = pd.concat([df.head(5), imputer_df.head(5), temp_df], axis=0)\n",
    "# concatenated_df['source'] = ['df'] * len(df.head(5)) + ['imputer_df'] * len(imputer_df.head(5)) + ['temp_df'] * len(temp_df)\n",
    "# concatenated_df.set_index('source', inplace=True)\n",
    "# concatenated_df.T.to_csv('results/comparison_df.csv')"
   ]
  }
 ],
 "metadata": {
  "kernelspec": {
   "display_name": ".venv",
   "language": "python",
   "name": "python3"
  },
  "language_info": {
   "codemirror_mode": {
    "name": "ipython",
    "version": 3
   },
   "file_extension": ".py",
   "mimetype": "text/x-python",
   "name": "python",
   "nbconvert_exporter": "python",
   "pygments_lexer": "ipython3",
   "version": "3.9.13"
  }
 },
 "nbformat": 4,
 "nbformat_minor": 2
}
